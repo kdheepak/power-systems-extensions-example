{
 "cells": [
  {
   "cell_type": "code",
   "execution_count": 1,
   "metadata": {
    "ExecuteTime": {
     "end_time": "2019-07-31T04:17:00.451000-06:00",
     "start_time": "2019-07-31T10:16:48.440Z"
    },
    "slideshow": {
     "slide_type": "-"
    }
   },
   "outputs": [],
   "source": [
    "] activate ."
   ]
  },
  {
   "cell_type": "code",
   "execution_count": 2,
   "metadata": {
    "ExecuteTime": {
     "end_time": "2019-07-31T04:17:22.574000-06:00",
     "start_time": "2019-07-31T10:16:48.445Z"
    }
   },
   "outputs": [
    {
     "data": {
      "text/plain": [
       "SimpleLogger(IJulia.IJuliaStdio{Base.PipeEndpoint}(IOContext(Base.PipeEndpoint(RawFD(0x00000032) open, 0 bytes waiting))), Debug, Dict{Any,Int64}())"
      ]
     },
     "execution_count": 2,
     "metadata": {},
     "output_type": "execute_result"
    }
   ],
   "source": [
    "### Initialization\n",
    "\n",
    "using Suppressor;\n",
    "\n",
    "@suppress begin\n",
    "    using PowerSystems;\n",
    "end\n",
    "\n",
    "using Logging\n",
    "global_logger(Logging.SimpleLogger(global_logger().stream, Logging.Debug));\n",
    "global_logger()\n",
    "\n"
   ]
  },
  {
   "cell_type": "markdown",
   "metadata": {},
   "source": [
    "# Extending PowerSystems types"
   ]
  },
  {
   "cell_type": "markdown",
   "metadata": {},
   "source": [
    "In this notebook, we will look at how to extend `PowerSystems.Component` types. \n",
    "\n",
    "Let's first read some data in:"
   ]
  },
  {
   "cell_type": "code",
   "execution_count": 3,
   "metadata": {
    "ExecuteTime": {
     "end_time": "2019-07-31T04:17:27.358000-06:00",
     "start_time": "2019-07-31T10:16:48.466Z"
    }
   },
   "outputs": [],
   "source": [
    "base_dir = joinpath(dirname(dirname(pathof(PowerSystems))),\"data\")\n",
    "include(joinpath(base_dir, \"data_5bus.jl\"));"
   ]
  },
  {
   "cell_type": "markdown",
   "metadata": {},
   "source": [
    "We now have a `generators5` array."
   ]
  },
  {
   "cell_type": "code",
   "execution_count": 4,
   "metadata": {
    "ExecuteTime": {
     "end_time": "2019-07-31T04:17:28.925000-06:00",
     "start_time": "2019-07-31T10:16:48.483Z"
    }
   },
   "outputs": [
    {
     "data": {
      "text/plain": [
       "7-element Array{Generator,1}:\n",
       " ThermalDispatch(name=\"Alta\")         \n",
       " ThermalDispatch(name=\"Park City\")    \n",
       " ThermalDispatch(name=\"Solitude\")     \n",
       " ThermalDispatch(name=\"Sundance\")     \n",
       " ThermalDispatch(name=\"Brighton\")     \n",
       " RenewableFix(name=\"SolarBusC\")       \n",
       " RenewableCurtailment(name=\"WindBusA\")"
      ]
     },
     "execution_count": 4,
     "metadata": {},
     "output_type": "execute_result"
    }
   ],
   "source": [
    "generators5"
   ]
  },
  {
   "cell_type": "markdown",
   "metadata": {},
   "source": [
    "Let's say we want to add a new `ThermalDispatch` type with `x`, `y` coordinates.\n",
    "\n",
    "First we can create a coordinate struct ( The `convert` function is a helper function that you can ignore )."
   ]
  },
  {
   "cell_type": "code",
   "execution_count": 5,
   "metadata": {
    "ExecuteTime": {
     "end_time": "2019-07-31T04:17:29.201000-06:00",
     "start_time": "2019-07-31T10:16:48.487Z"
    }
   },
   "outputs": [],
   "source": [
    "struct Coordinate\n",
    "    x::Float64\n",
    "    y::Float64\n",
    "end\n",
    "Base.convert(::Type{Coordinate}, t::Tuple{T, U}) where T<:Number where U<:Number = Coordinate(t[1], t[2])"
   ]
  },
  {
   "cell_type": "markdown",
   "metadata": {},
   "source": [
    "In order to extend a `ThermalDispatch` struct, we want to create a new struct that is the `subtype` of the `supertype` of `ThermalDispatch`. So let's find the supertype of `ThermalDispatch` first."
   ]
  },
  {
   "cell_type": "code",
   "execution_count": 6,
   "metadata": {
    "ExecuteTime": {
     "end_time": "2019-07-31T04:17:30.022000-06:00",
     "start_time": "2019-07-31T10:16:48.493Z"
    }
   },
   "outputs": [
    {
     "data": {
      "text/plain": [
       "ThermalGen"
      ]
     },
     "execution_count": 6,
     "metadata": {},
     "output_type": "execute_result"
    }
   ],
   "source": [
    "supertype(ThermalDispatch)"
   ]
  },
  {
   "cell_type": "markdown",
   "metadata": {},
   "source": [
    "We can `subtype` this in two ways:\n",
    "\n",
    "```julia\n",
    "struct MyCustomThermalDispatch1 <: ThermalGen\n",
    "    location::Coordinate\n",
    "    name::String\n",
    "    available::Bool\n",
    "    bus::Bus\n",
    "    tech::Union{TechThermal,Nothing}\n",
    "    econ::Union{EconThermal,Nothing}\n",
    "end\n",
    "```\n",
    "\n",
    "*OR*\n",
    "\n",
    "```julia\n",
    "struct MyCustomThermalDispatch1 <: ThermalGen\n",
    "    location::Coordinate\n",
    "    generator::ThermalDispatch    \n",
    "end\n",
    "```\n",
    "\n",
    "The first is straightforward to understand, easy to read and easy to write. However, it is not very friendly for long term stability and maintenaince.\n",
    "\n",
    "This is because if any change is made to `PowerSystems.ThermalDispatch`'s internal layout, i.e. add a new field, rename a field, remove a field, change the type of a field etc, then we have to make the same change in our code. This can get cumbersome for large codebases or code evolving over time.\n",
    "\n",
    "We'll use the second approach in this presentation. This allows us to use the same implementation details as `ThermalDispatch`, allowing us to reuse more code than option 1.\n",
    "\n",
    "*Note*: Both above approaches are valid options depending on the goals of the project, and both have own their benefits and tradeoffs."
   ]
  },
  {
   "cell_type": "code",
   "execution_count": 7,
   "metadata": {
    "ExecuteTime": {
     "end_time": "2019-07-31T04:17:30.051000-06:00",
     "start_time": "2019-07-31T10:16:48.516Z"
    }
   },
   "outputs": [],
   "source": [
    "struct MyCustomThermalDispatch1 <: ThermalGen\n",
    "    location::Coordinate\n",
    "    generator::ThermalDispatch\n",
    "end"
   ]
  },
  {
   "cell_type": "markdown",
   "metadata": {},
   "source": [
    "The above technique is also commonly known as composition. However, this comes with a challenge.\n",
    "\n",
    "Let's say that there is a function defined on the supertype of `ThermalDispatch` that uses the `.` operator. For example:\n",
    "\n",
    "```julia\n",
    "get_name(gen::Generator) = gen.name\n",
    "```\n",
    "\n",
    "This would work fine if we called it with `ThermalDispatch`.\n",
    "\n",
    "```julia\n",
    "get_name(gen::ThermalDispatch) # \"Brighton\"\n",
    "```\n",
    "\n",
    "However, if we call it with `MyCustomThermalDispatch1`, it will fail.\n",
    "\n",
    "```julia\n",
    "get_name(gen::MyCustomThermalDispatch1) # ERROR: type MyCustomThermalDispatch1 has no field name\n",
    "```\n",
    "\n",
    "If an instance of `MyCustomThermalDispatch1` is used by a caller of this function, it will result in a runtime error.\n",
    "This is because we have changed the struct layout of the type that we extended."
   ]
  },
  {
   "cell_type": "markdown",
   "metadata": {},
   "source": [
    "We have to work around this of course, since we want our `MyCustomThermalDispatch1` to be used interchangably with `ThermalDispatch`. To do this, we need to implement all the functions for `MyCustomThermalDispatch1` that were implemented for `ThermalDispatch`.\n",
    "\n",
    "\n",
    "We can find out all the functions defined that take a `ThermalDispatch` as an input argument:"
   ]
  },
  {
   "cell_type": "code",
   "execution_count": 8,
   "metadata": {
    "ExecuteTime": {
     "end_time": "2019-07-31T04:17:32.658000-06:00",
     "start_time": "2019-07-31T10:16:48.549Z"
    }
   },
   "outputs": [
    {
     "data": {
      "text/html": [
       "3-element Array{Method,1}:<ul><li> validate(generator::<b>Generator</b>) in PowerSystems at <a href=\"file:///Users/$USER/.julia/packages/PowerSystems/a865r/src/validation/generator.jl\" target=\"_blank\">/Users/$USER/.julia/packages/PowerSystems/a865r/src/validation/generator.jl:21</a><li> show(io::<b>IO</b>, ::<b>MIME{Symbol(\"text/plain\")}</b>, pst::<b>Component</b>) in PowerSystems at <a href=\"file:///Users/$USER/.julia/packages/PowerSystems/a865r/src/utils/print.jl\" target=\"_blank\">/Users/$USER/.julia/packages/PowerSystems/a865r/src/utils/print.jl:36</a><li> show(io::<b>IO</b>, pst::<b>Component</b>) in PowerSystems at <a href=\"file:///Users/$USER/.julia/packages/PowerSystems/a865r/src/utils/print.jl\" target=\"_blank\">/Users/$USER/.julia/packages/PowerSystems/a865r/src/utils/print.jl:33</a></ul>"
      ],
      "text/plain": [
       "[1] validate(generator::Generator) in PowerSystems at /Users/$USER/.julia/packages/PowerSystems/a865r/src/validation/generator.jl:21\n",
       "[2] show(io::IO, ::MIME{Symbol(\"text/plain\")}, pst::Component) in PowerSystems at /Users/$USER/.julia/packages/PowerSystems/a865r/src/utils/print.jl:36\n",
       "[3] show(io::IO, pst::Component) in PowerSystems at /Users/$USER/.julia/packages/PowerSystems/a865r/src/utils/print.jl:33"
      ]
     },
     "execution_count": 8,
     "metadata": {},
     "output_type": "execute_result"
    }
   ],
   "source": [
    "methodswith(ThermalDispatch, supertypes=true)"
   ]
  },
  {
   "cell_type": "markdown",
   "metadata": {},
   "source": [
    "There are three methods here, that are essentially two functions:\n",
    "\n",
    "`validate`, `show`"
   ]
  },
  {
   "cell_type": "markdown",
   "metadata": {},
   "source": [
    "We can create an instance of `MyCustomThermalDispatch1` using the following:"
   ]
  },
  {
   "cell_type": "code",
   "execution_count": 9,
   "metadata": {
    "ExecuteTime": {
     "end_time": "2019-07-31T04:17:33.451000-06:00",
     "start_time": "2019-07-31T10:16:48.565Z"
    }
   },
   "outputs": [
    {
     "data": {
      "text/plain": [
       "MyCustomThermalDispatch1:\n",
       "   location: Coordinate(0.0, 0.0)\n",
       "   generator: ThermalDispatch(name=\"Brighton\")"
      ]
     },
     "execution_count": 9,
     "metadata": {},
     "output_type": "execute_result"
    }
   ],
   "source": [
    "gen = MyCustomThermalDispatch1(\n",
    "    (0,0), \n",
    "    ThermalDispatch(\n",
    "        \"Brighton\", true, nodes5[5],\n",
    "        TechThermal(600.0, (min=0.0, max=600.0), 150.0, (min =-450.0, max=450.0), nothing, nothing),\n",
    "        EconThermal(600.0, [(0.0, 0.0), (8.0,450.0), (10.0,600.0)], 0.0, 0.0, 0.0, nothing)\n",
    "    )\n",
    ")"
   ]
  },
  {
   "cell_type": "markdown",
   "metadata": {},
   "source": [
    "Let's see what happens when we call the `validate` function."
   ]
  },
  {
   "cell_type": "code",
   "execution_count": 10,
   "metadata": {
    "ExecuteTime": {
     "end_time": "2019-07-31T04:17:35.074000-06:00",
     "start_time": "2019-07-31T10:16:48.570Z"
    }
   },
   "outputs": [
    {
     "ename": "ErrorException",
     "evalue": "type MyCustomThermalDispatch1 has no field name",
     "output_type": "error",
     "traceback": [
      "type MyCustomThermalDispatch1 has no field name",
      "",
      "Stacktrace:",
      " [1] getproperty(::Any, ::Symbol) at ./sysimg.jl:18",
      " [2] macro expansion at ./logging.jl:320 [inlined]",
      " [3] validate(::MyCustomThermalDispatch1) at /Users/$USER/.julia/packages/PowerSystems/a865r/src/validation/generator.jl:23",
      " [4] top-level scope at In[10]:1"
     ]
    }
   ],
   "source": [
    "validate(gen)"
   ]
  },
  {
   "cell_type": "markdown",
   "metadata": {},
   "source": [
    "One solution to this is to implement the `validate` function for our custom type and call the same function but pass it the instance of `ThermalDispatch`. This is also known as forwarding."
   ]
  },
  {
   "cell_type": "code",
   "execution_count": 11,
   "metadata": {
    "ExecuteTime": {
     "end_time": "2019-07-31T04:17:35.099000-06:00",
     "start_time": "2019-07-31T10:16:48.586Z"
    }
   },
   "outputs": [],
   "source": [
    "PowerSystems.validate(g::MyCustomThermalDispatch1) = PowerSystems.validate(g.generator)"
   ]
  },
  {
   "cell_type": "code",
   "execution_count": 12,
   "metadata": {
    "ExecuteTime": {
     "end_time": "2019-07-31T04:17:35.870000-06:00",
     "start_time": "2019-07-31T10:16:48.591Z"
    }
   },
   "outputs": [
    {
     "name": "stderr",
     "output_type": "stream",
     "text": [
      "┌ Debug: Generator validation\n",
      "│   generator.name = Brighton\n",
      "│   is_valid = true\n",
      "└ @ PowerSystems /Users/$USER/.julia/packages/PowerSystems/a865r/src/validation/generator.jl:23\n"
     ]
    },
    {
     "data": {
      "text/plain": [
       "true"
      ]
     },
     "execution_count": 12,
     "metadata": {},
     "output_type": "execute_result"
    }
   ],
   "source": [
    "validate(gen)"
   ]
  },
  {
   "cell_type": "markdown",
   "metadata": {},
   "source": [
    "In this case there's only a couple of functions implemented on `ThermalDispatch`. You can imagine another type where there are a larger number of functions implemented.\n",
    "\n",
    "Additionally, we have only loaded `PowerSystems.jl`. There may be `N` number of packages that depend on `PowerSystems.jl` that implement different functions on a type provided by `PowerSystems`.\n",
    "\n",
    "One option is to manually write out every function that is implemented and forward the functions appropriately. This allows for a great deal of manual control, but can be verbose and may involve a lot of code repetition. This additionally may not be maintainable.\n",
    "\n",
    "The second option is to let Julia forward functions automatically for you. Here we use a package called `ReusePatterns`."
   ]
  },
  {
   "cell_type": "code",
   "execution_count": 13,
   "metadata": {
    "ExecuteTime": {
     "end_time": "2019-07-31T04:17:36.425000-06:00",
     "start_time": "2019-07-31T10:16:48.606Z"
    }
   },
   "outputs": [],
   "source": [
    "@suppress begin\n",
    "    using ReusePatterns\n",
    "end"
   ]
  },
  {
   "cell_type": "markdown",
   "metadata": {},
   "source": [
    "Let's say we define the type as follows:"
   ]
  },
  {
   "cell_type": "code",
   "execution_count": 14,
   "metadata": {
    "ExecuteTime": {
     "end_time": "2019-07-31T04:17:36.463000-06:00",
     "start_time": "2019-07-31T10:16:48.609Z"
    }
   },
   "outputs": [],
   "source": [
    "struct MyCustomThermalDispatch2 <: ThermalGen\n",
    "    location::Coordinate\n",
    "    generator::ThermalDispatch\n",
    "end"
   ]
  },
  {
   "cell_type": "markdown",
   "metadata": {
    "ExecuteTime": {
     "end_time": "2019-07-31T04:12:08.416000-06:00",
     "start_time": "2019-07-31T10:12:08.332Z"
    }
   },
   "source": [
    "We can `forward` all functions that we defined on `ThermalDispatch` when called on `MyCustomThermalDispatch2` \n",
    "to the appropriate attribute"
   ]
  },
  {
   "cell_type": "code",
   "execution_count": 15,
   "metadata": {
    "ExecuteTime": {
     "end_time": "2019-07-31T04:17:49.914000-06:00",
     "start_time": "2019-07-31T10:16:48.614Z"
    }
   },
   "outputs": [
    {
     "name": "stdout",
     "output_type": "stream",
     "text": [
      "4 method(s) forwarded\n"
     ]
    }
   ],
   "source": [
    "@forward( (MyCustomThermalDispatch2, :generator), ThermalDispatch)"
   ]
  },
  {
   "cell_type": "code",
   "execution_count": 16,
   "metadata": {
    "ExecuteTime": {
     "end_time": "2019-07-31T04:17:50.582000-06:00",
     "start_time": "2019-07-31T10:16:48.618Z"
    }
   },
   "outputs": [
    {
     "data": {
      "text/plain": [
       "ThermalDispatch:\n",
       "   name: Brighton\n",
       "   available: true\n",
       "   bus: Bus(name=\"nodeE\")\n",
       "   tech: TechThermal\n",
       "   econ: EconThermal"
      ]
     },
     "execution_count": 16,
     "metadata": {},
     "output_type": "execute_result"
    }
   ],
   "source": [
    "gen = MyCustomThermalDispatch2((0,0), ThermalDispatch(\"Brighton\", true, nodes5[5],\n",
    "    TechThermal(600.0, (min=0.0, max=600.0), 150.0, (min =-450.0, max=450.0), nothing, nothing),\n",
    "    EconThermal(600.0, [(0.0, 0.0), (8.0,450.0), (10.0,600.0)], 0.0, 0.0, 0.0, nothing)\n",
    "))\n"
   ]
  },
  {
   "cell_type": "code",
   "execution_count": 17,
   "metadata": {
    "ExecuteTime": {
     "end_time": "2019-07-31T04:17:50.602000-06:00",
     "start_time": "2019-07-31T10:16:48.625Z"
    }
   },
   "outputs": [
    {
     "name": "stderr",
     "output_type": "stream",
     "text": [
      "┌ Debug: Generator validation\n",
      "│   generator.name = Brighton\n",
      "│   is_valid = true\n",
      "└ @ PowerSystems /Users/$USER/.julia/packages/PowerSystems/a865r/src/validation/generator.jl:23\n"
     ]
    },
    {
     "data": {
      "text/plain": [
       "true"
      ]
     },
     "execution_count": 17,
     "metadata": {},
     "output_type": "execute_result"
    }
   ],
   "source": [
    "validate(gen)"
   ]
  },
  {
   "cell_type": "markdown",
   "metadata": {},
   "source": [
    "Note here that even the `show` function was forwarded. Any function found by the `@forward` macro will be forwarded."
   ]
  },
  {
   "cell_type": "markdown",
   "metadata": {},
   "source": [
    "This all or nothing behaviour may be what you desire, but there is also an option for controlled forwarding if you choose to do so."
   ]
  },
  {
   "cell_type": "code",
   "execution_count": 18,
   "metadata": {
    "ExecuteTime": {
     "end_time": "2019-07-31T04:17:50.708000-06:00",
     "start_time": "2019-07-31T10:16:48.651Z"
    }
   },
   "outputs": [],
   "source": [
    "@suppress begin\n",
    "    using ReusePatterns\n",
    "end"
   ]
  },
  {
   "cell_type": "code",
   "execution_count": 19,
   "metadata": {
    "ExecuteTime": {
     "end_time": "2019-07-31T04:17:50.743000-06:00",
     "start_time": "2019-07-31T10:16:48.657Z"
    }
   },
   "outputs": [],
   "source": [
    "struct MyCustomThermalDispatch3 <: ThermalGen\n",
    "    location::Coordinate\n",
    "    generator::ThermalDispatch\n",
    "end"
   ]
  },
  {
   "cell_type": "markdown",
   "metadata": {},
   "source": [
    "Here we can pass the `validate` method array to the `@forward` macro."
   ]
  },
  {
   "cell_type": "code",
   "execution_count": 20,
   "metadata": {
    "ExecuteTime": {
     "end_time": "2019-07-31T04:17:50.764000-06:00",
     "start_time": "2019-07-31T10:16:48.663Z"
    }
   },
   "outputs": [
    {
     "data": {
      "text/html": [
       "9-element Array{Method,1}:<ul><li> validate(p1::<b>MyCustomThermalDispatch2</b>) in PowerSystems at none:1<li> validate(g::<b>MyCustomThermalDispatch1</b>) in Main at In[11]:1<li> validate(sys::<b>System</b>) in PowerSystems at <a href=\"file:///Users/$USER/.julia/packages/PowerSystems/a865r/src/validation/powersystem.jl\" target=\"_blank\">/Users/$USER/.julia/packages/PowerSystems/a865r/src/validation/powersystem.jl:24</a><li> validate(gen::<b>GenClasses</b>) in PowerSystems at <a href=\"file:///Users/$USER/.julia/packages/PowerSystems/a865r/src/validation/generator.jl\" target=\"_blank\">/Users/$USER/.julia/packages/PowerSystems/a865r/src/validation/generator.jl:4</a><li> validate(bus::<b>Bus</b>) in PowerSystems at <a href=\"file:///Users/$USER/.julia/packages/PowerSystems/a865r/src/validation/bus.jl\" target=\"_blank\">/Users/$USER/.julia/packages/PowerSystems/a865r/src/validation/bus.jl:4</a><li> validate(branch::<b>Branch</b>) in PowerSystems at <a href=\"file:///Users/$USER/.julia/packages/PowerSystems/a865r/src/validation/branch.jl\" target=\"_blank\">/Users/$USER/.julia/packages/PowerSystems/a865r/src/validation/branch.jl:4</a><li> validate(generator::<b>Generator</b>) in PowerSystems at <a href=\"file:///Users/$USER/.julia/packages/PowerSystems/a865r/src/validation/generator.jl\" target=\"_blank\">/Users/$USER/.julia/packages/PowerSystems/a865r/src/validation/generator.jl:21</a><li> validate(load::<b>ElectricLoad</b>) in PowerSystems at <a href=\"file:///Users/$USER/.julia/packages/PowerSystems/a865r/src/validation/load.jl\" target=\"_blank\">/Users/$USER/.julia/packages/PowerSystems/a865r/src/validation/load.jl:5</a><li> validate(storage::<b>Storage</b>) in PowerSystems at <a href=\"file:///Users/$USER/.julia/packages/PowerSystems/a865r/src/validation/storage.jl\" target=\"_blank\">/Users/$USER/.julia/packages/PowerSystems/a865r/src/validation/storage.jl:4</a></ul>"
      ],
      "text/plain": [
       "[1] validate(p1::MyCustomThermalDispatch2) in PowerSystems at none:1\n",
       "[2] validate(g::MyCustomThermalDispatch1) in Main at In[11]:1\n",
       "[3] validate(sys::System) in PowerSystems at /Users/$USER/.julia/packages/PowerSystems/a865r/src/validation/powersystem.jl:24\n",
       "[4] validate(gen::GenClasses) in PowerSystems at /Users/$USER/.julia/packages/PowerSystems/a865r/src/validation/generator.jl:4\n",
       "[5] validate(bus::Bus) in PowerSystems at /Users/$USER/.julia/packages/PowerSystems/a865r/src/validation/bus.jl:4\n",
       "[6] validate(branch::Branch) in PowerSystems at /Users/$USER/.julia/packages/PowerSystems/a865r/src/validation/branch.jl:4\n",
       "[7] validate(generator::Generator) in PowerSystems at /Users/$USER/.julia/packages/PowerSystems/a865r/src/validation/generator.jl:21\n",
       "[8] validate(load::ElectricLoad) in PowerSystems at /Users/$USER/.julia/packages/PowerSystems/a865r/src/validation/load.jl:5\n",
       "[9] validate(storage::Storage) in PowerSystems at /Users/$USER/.julia/packages/PowerSystems/a865r/src/validation/storage.jl:4"
      ]
     },
     "execution_count": 20,
     "metadata": {},
     "output_type": "execute_result"
    }
   ],
   "source": [
    "methods_array = methods(validate).ms"
   ]
  },
  {
   "cell_type": "code",
   "execution_count": 21,
   "metadata": {
    "ExecuteTime": {
     "end_time": "2019-07-31T04:17:50.976000-06:00",
     "start_time": "2019-07-31T10:16:48.667Z"
    }
   },
   "outputs": [
    {
     "name": "stdout",
     "output_type": "stream",
     "text": [
      "2 method(s) forwarded\n"
     ]
    }
   ],
   "source": [
    "@forward( (MyCustomThermalDispatch3, :generator), ThermalDispatch, methods_array)"
   ]
  },
  {
   "cell_type": "code",
   "execution_count": 22,
   "metadata": {
    "ExecuteTime": {
     "end_time": "2019-07-31T04:17:52.143000-06:00",
     "start_time": "2019-07-31T10:16:48.672Z"
    }
   },
   "outputs": [
    {
     "data": {
      "text/plain": [
       "MyCustomThermalDispatch3:\n",
       "   location: Coordinate(0.0, 0.0)\n",
       "   generator: ThermalDispatch(name=\"Brighton\")"
      ]
     },
     "execution_count": 22,
     "metadata": {},
     "output_type": "execute_result"
    }
   ],
   "source": [
    "gen = MyCustomThermalDispatch3((0,0), ThermalDispatch(\"Brighton\", true, nodes5[5],\n",
    "    TechThermal(600.0, (min=0.0, max=600.0), 150.0, (min =-450.0, max=450.0), nothing, nothing),\n",
    "    EconThermal(600.0, [(0.0, 0.0), (8.0,450.0), (10.0,600.0)], 0.0, 0.0, 0.0, nothing)\n",
    "))\n"
   ]
  },
  {
   "cell_type": "code",
   "execution_count": 23,
   "metadata": {
    "ExecuteTime": {
     "end_time": "2019-07-31T04:17:52.169000-06:00",
     "start_time": "2019-07-31T10:16:48.677Z"
    }
   },
   "outputs": [
    {
     "name": "stderr",
     "output_type": "stream",
     "text": [
      "┌ Debug: Generator validation\n",
      "│   generator.name = Brighton\n",
      "│   is_valid = true\n",
      "└ @ PowerSystems /Users/$USER/.julia/packages/PowerSystems/a865r/src/validation/generator.jl:23\n"
     ]
    },
    {
     "data": {
      "text/plain": [
       "true"
      ]
     },
     "execution_count": 23,
     "metadata": {},
     "output_type": "execute_result"
    }
   ],
   "source": [
    "validate(gen)"
   ]
  },
  {
   "cell_type": "markdown",
   "metadata": {},
   "source": [
    "You can see that only `validate` was forwarded this time. "
   ]
  },
  {
   "cell_type": "markdown",
   "metadata": {},
   "source": [
    "## Optional: Custom Constructors"
   ]
  },
  {
   "cell_type": "markdown",
   "metadata": {},
   "source": [
    "If you want to go the extra mile, you can define constructors that are implemented for `ThermalDispatch`. "
   ]
  },
  {
   "cell_type": "code",
   "execution_count": 24,
   "metadata": {
    "ExecuteTime": {
     "end_time": "2019-07-31T04:17:53.455000-06:00",
     "start_time": "2019-07-31T10:16:48.692Z"
    }
   },
   "outputs": [
    {
     "data": {
      "text/html": [
       "3 methods for generic function <b>Type</b>:<ul><li> ThermalDispatch(; <i>name, status, bus, tech, econ</i>) in PowerSystems at <a href=\"file:///Users/$USER/.julia/packages/PowerSystems/a865r/src/models/generation/thermal_generation.jl\" target=\"_blank\">/Users/$USER/.julia/packages/PowerSystems/a865r/src/models/generation/thermal_generation.jl:29</a></li> <li> ThermalDispatch(name::<b>String</b>, available::<b>Bool</b>, bus::<b>Bus</b>, tech::<b>Union{Nothing, TechThermal}</b>, econ::<b>Union{Nothing, EconThermal}</b>) in PowerSystems at <a href=\"file:///Users/$USER/.julia/packages/PowerSystems/a865r/src/models/generation/thermal_generation.jl\" target=\"_blank\">/Users/$USER/.julia/packages/PowerSystems/a865r/src/models/generation/thermal_generation.jl:18</a></li> <li> ThermalDispatch(name, available, bus, tech, econ) in PowerSystems at <a href=\"file:///Users/$USER/.julia/packages/PowerSystems/a865r/src/models/generation/thermal_generation.jl\" target=\"_blank\">/Users/$USER/.julia/packages/PowerSystems/a865r/src/models/generation/thermal_generation.jl:18</a></li> </ul>"
      ],
      "text/plain": [
       "# 3 methods for generic function \"(::Type)\":\n",
       "[1] ThermalDispatch(; name, status, bus, tech, econ) in PowerSystems at /Users/$USER/.julia/packages/PowerSystems/a865r/src/models/generation/thermal_generation.jl:29\n",
       "[2] ThermalDispatch(name::String, available::Bool, bus::Bus, tech::Union{Nothing, TechThermal}, econ::Union{Nothing, EconThermal}) in PowerSystems at /Users/$USER/.julia/packages/PowerSystems/a865r/src/models/generation/thermal_generation.jl:18\n",
       "[3] ThermalDispatch(name, available, bus, tech, econ) in PowerSystems at /Users/$USER/.julia/packages/PowerSystems/a865r/src/models/generation/thermal_generation.jl:18"
      ]
     },
     "execution_count": 24,
     "metadata": {},
     "output_type": "execute_result"
    }
   ],
   "source": [
    "methods(ThermalDispatch)"
   ]
  },
  {
   "cell_type": "code",
   "execution_count": 25,
   "metadata": {
    "ExecuteTime": {
     "end_time": "2019-07-31T04:17:53.518000-06:00",
     "start_time": "2019-07-31T10:16:48.696Z"
    },
    "scrolled": true
   },
   "outputs": [
    {
     "data": {
      "text/plain": [
       "MyCustomThermalDispatch1"
      ]
     },
     "execution_count": 25,
     "metadata": {},
     "output_type": "execute_result"
    }
   ],
   "source": [
    "function MyCustomThermalDispatch1(; location=(0,0), kwargs...)\n",
    "    generator = ThermalDispatch(kwargs...)\n",
    "    MyCustomThermalDispatch(location, generator)\n",
    "end\n",
    "\n",
    "function MyCustomThermalDispatch1(args...)\n",
    "    generator = ThermalDispatch(args...)\n",
    "    location = (0, 0)\n",
    "    MyCustomThermalDispatch1(location, generator)\n",
    "end\n",
    "\n",
    "MyCustomThermalDispatch1(\n",
    "    name::String, \n",
    "    available::Bool, \n",
    "    bus::Bus, \n",
    "    tech::Union{Nothing, TechThermal}, \n",
    "    econ::Union{Nothing, EconThermal}\n",
    "    ) = MyCustomThermalDispatch1((0,0), ThermalDispatch(name, available, bus, tech, econ))"
   ]
  },
  {
   "cell_type": "markdown",
   "metadata": {
    "ExecuteTime": {
     "end_time": "2019-07-31T02:37:21.723000-06:00",
     "start_time": "2019-07-31T08:37:21.328Z"
    }
   },
   "source": [
    "And it is straighforward to add any extensions as necessary. Let's define one additional constructor here:"
   ]
  },
  {
   "cell_type": "code",
   "execution_count": 26,
   "metadata": {
    "ExecuteTime": {
     "end_time": "2019-07-31T04:17:53.619000-06:00",
     "start_time": "2019-07-31T10:16:48.700Z"
    }
   },
   "outputs": [],
   "source": [
    "MyCustomThermalDispatch1(\n",
    "    location::Union{Tuple{<:Number, <:Number}, Coordinate}, # Prefer not being as explicit in types unless required\n",
    "    name::String, \n",
    "    available::Bool, \n",
    "    bus::Bus, \n",
    "    tech::Union{Nothing, TechThermal}, \n",
    "    econ::Union{Nothing, EconThermal}\n",
    "    ) = MyCustomThermalDispatch1(location, ThermalDispatch(name, available, bus, tech, econ));"
   ]
  },
  {
   "cell_type": "markdown",
   "metadata": {},
   "source": [
    "Now `MyCustomThermalDispatch1` can be constructed similarly to `ThermalDispatch `"
   ]
  },
  {
   "cell_type": "code",
   "execution_count": 27,
   "metadata": {
    "ExecuteTime": {
     "end_time": "2019-07-31T04:17:53.738000-06:00",
     "start_time": "2019-07-31T10:16:48.704Z"
    }
   },
   "outputs": [
    {
     "data": {
      "text/plain": [
       "MyCustomThermalDispatch1:\n",
       "   location: Coordinate(0.0, 0.0)\n",
       "   generator: ThermalDispatch(name=\"Brighton\")"
      ]
     },
     "execution_count": 27,
     "metadata": {},
     "output_type": "execute_result"
    }
   ],
   "source": [
    "MyCustomThermalDispatch1(\"Brighton\", true, nodes5[5],\n",
    "    TechThermal(600.0, (min=0.0, max=600.0), 150.0, (min =-450.0, max=450.0), nothing, nothing),\n",
    "    EconThermal(600.0, [(0.0, 0.0), (8.0,450.0), (10.0,600.0)], 0.0, 0.0, 0.0, nothing)\n",
    ")\n"
   ]
  }
 ],
 "metadata": {
  "@webio": {
   "lastCommId": null,
   "lastKernelId": null
  },
  "anaconda-cloud": {},
  "celltoolbar": "Slideshow",
  "hide_input": false,
  "kernelspec": {
   "display_name": "Julia 1.1.0",
   "language": "julia",
   "name": "julia-1.1"
  },
  "language_info": {
   "file_extension": ".jl",
   "mimetype": "application/julia",
   "name": "julia",
   "version": "1.1.0"
  },
  "varInspector": {
   "cols": {
    "lenName": 16,
    "lenType": 16,
    "lenVar": 40
   },
   "kernels_config": {
    "python": {
     "delete_cmd_postfix": "",
     "delete_cmd_prefix": "del ",
     "library": "var_list.py",
     "varRefreshCmd": "print(var_dic_list())"
    },
    "r": {
     "delete_cmd_postfix": ") ",
     "delete_cmd_prefix": "rm(",
     "library": "var_list.r",
     "varRefreshCmd": "cat(var_dic_list()) "
    }
   },
   "types_to_exclude": [
    "module",
    "function",
    "builtin_function_or_method",
    "instance",
    "_Feature"
   ],
   "window_display": false
  },
  "widgets": {
   "application/vnd.jupyter.widget-state+json": {
    "state": {},
    "version_major": 2,
    "version_minor": 0
   }
  }
 },
 "nbformat": 4,
 "nbformat_minor": 2
}
